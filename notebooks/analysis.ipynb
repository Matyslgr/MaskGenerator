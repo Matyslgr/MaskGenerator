{
 "cells": [
  {
   "cell_type": "code",
   "execution_count": 1,
   "id": "753c50b2",
   "metadata": {},
   "outputs": [],
   "source": [
    "import sys\n",
    "import os\n",
    "sys.path.append(os.path.abspath(os.path.join(os.getcwd(), '..')))\n",
    "\n",
    "import yaml\n",
    "import pandas as pd\n",
    "import mask_generator.settings as settings"
   ]
  },
  {
   "cell_type": "code",
   "execution_count": 2,
   "id": "4c49cd5a",
   "metadata": {},
   "outputs": [],
   "source": [
    "EXPERIMENTS_DIR = \"../experiments\"\n",
    "\n",
    "def load_yaml(path: str) -> dict:\n",
    "    with open(path, \"r\") as f:\n",
    "        return yaml.safe_load(f)\n",
    "\n",
    "def load_run_yaml(run_path: str) -> dict:\n",
    "    config_path = os.path.join(run_path, settings.config_filename)\n",
    "    results_path = os.path.join(run_path, settings.results_filename)\n",
    "\n",
    "    if not os.path.exists(config_path) or not os.path.exists(results_path):\n",
    "        return {}\n",
    "\n",
    "    config = load_yaml(config_path)\n",
    "    results = load_yaml(results_path)\n",
    "\n",
    "    return {\n",
    "        \"config\": config,\n",
    "        \"results\": results\n",
    "    }\n",
    "\n",
    "def flatten_dict(d: dict, parent_key: str = '', sep: str = '.') -> dict:\n",
    "    items = []\n",
    "    for k, v in d.items():\n",
    "        new_key = f\"{parent_key}{sep}{k}\" if parent_key else k\n",
    "        if isinstance(v, dict):\n",
    "            items.extend(flatten_dict(v, new_key, sep=sep).items())\n",
    "        else:\n",
    "            items.append((new_key, v))\n",
    "    return dict(items)\n",
    "\n",
    "def load_experiments(experiments_dir: str = EXPERIMENTS_DIR) -> pd.DataFrame:\n",
    "    run_dirs = [os.path.join(experiments_dir, d) for d in os.listdir(experiments_dir)\n",
    "                if os.path.isdir(os.path.join(experiments_dir, d))]\n",
    "\n",
    "    data = []\n",
    "    for run_dir in run_dirs:\n",
    "        run_data = load_run_yaml(run_dir)\n",
    "        if not run_data:\n",
    "            continue\n",
    "        flat_config = flatten_dict(run_data[\"config\"])\n",
    "        flat_results = flatten_dict(run_data[\"results\"])\n",
    "        summary = {**flat_config, **flat_results}\n",
    "        summary[\"run_dir\"] = run_dir\n",
    "        data.append(summary)\n",
    "\n",
    "    df = pd.DataFrame(data)\n",
    "    if df.empty:\n",
    "        raise ValueError(\"No valid experiment data found.\")\n",
    "    df.reset_index(drop=True, inplace=True)\n",
    "    return df"
   ]
  },
  {
   "cell_type": "code",
   "execution_count": 26,
   "id": "afd04d89",
   "metadata": {},
   "outputs": [],
   "source": [
    "df = load_experiments(EXPERIMENTS_DIR)\n",
    "df.columns\n",
    "\n",
    "df.to_csv(os.path.join(EXPERIMENTS_DIR, \"experiments_summary.csv\"), index=False)"
   ]
  },
  {
   "cell_type": "code",
   "execution_count": 25,
   "id": "f9fba615",
   "metadata": {},
   "outputs": [
    {
     "name": "stdout",
     "output_type": "stream",
     "text": [
      "Top augmentations by max test.dice:\n",
      "augment_str\n",
      "['geometry', 'dropout', 'color_invariance', 'color_variation', 'blur', 'noise', 'weather']    0.571323\n",
      "['geometry', 'color_variation']                                                               0.506237\n",
      "['geometry', 'color_invariance', 'color_variation']                                           0.501950\n",
      "['geometry', 'weather', 'color_variation', 'blur']                                            0.493002\n",
      "['geometry', 'dropout', 'noise']                                                              0.478952\n",
      "['geometry', 'weather', 'blur']                                                               0.475796\n",
      "['geometry', 'weather']                                                                       0.439259\n",
      "['geometry', 'color_invariance']                                                              0.425963\n",
      "['geometry', 'dropout']                                                                       0.373711\n",
      "['geometry', 'blur']                                                                          0.335367\n",
      "['geometry', 'noise']                                                                         0.326870\n",
      "['geometry', 'blur', 'noise']                                                                 0.304936\n",
      "['geometry']                                                                                  0.281182\n",
      "[]                                                                                            0.176898\n",
      "Name: test.dice, dtype: float64\n",
      "\n",
      "Top dropout values:\n",
      "model.dropout\n",
      "0.0    0.571323\n",
      "0.7    0.545966\n",
      "0.3    0.503478\n",
      "Name: test.dice, dtype: float64\n"
     ]
    }
   ],
   "source": [
    "df1 = df.copy()\n",
    "df1[\"augment_str\"] = df1[\"training.augmentations\"].apply(lambda x: str(x) if isinstance(x, list) else x)\n",
    "top_augments = df1.groupby(\"augment_str\")[\"test.dice\"].max().sort_values(ascending=False)\n",
    "print(\"Top augmentations by max test.dice:\")\n",
    "print(top_augments)\n",
    "\n",
    "top_dropout = df1.groupby(\"model.dropout\")[\"test.dice\"].max().sort_values(ascending=False)\n",
    "print(\"\\nTop dropout values:\")\n",
    "print(top_dropout)\n",
    "\n",
    "# grouped = df1.groupby(\"augmentations_key\")['test.dice']\n",
    "# mean_test_dice = grouped.mean().sort_values(ascending=False)\n",
    "# max_test_dice = grouped.max().sort_values(ascending=False)\n",
    "\n",
    "# print(\"Top augmentations par moyenne de test.dice :\")\n",
    "# print(mean_test_dice.head(10))\n",
    "\n",
    "# print(\"\\nTop augmentations par meilleur test.dice :\")\n",
    "# print(max_test_dice.head(10))"
   ]
  }
 ],
 "metadata": {
  "kernelspec": {
   "display_name": "Robocar",
   "language": "python",
   "name": "python3"
  },
  "language_info": {
   "codemirror_mode": {
    "name": "ipython",
    "version": 3
   },
   "file_extension": ".py",
   "mimetype": "text/x-python",
   "name": "python",
   "nbconvert_exporter": "python",
   "pygments_lexer": "ipython3",
   "version": "3.9.22"
  }
 },
 "nbformat": 4,
 "nbformat_minor": 5
}
