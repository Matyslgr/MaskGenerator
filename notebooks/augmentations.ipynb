{
 "cells": [
  {
   "cell_type": "code",
   "execution_count": null,
   "id": "89b1d724",
   "metadata": {},
   "outputs": [],
   "source": [
    "import os\n",
    "import random\n",
    "import numpy as np\n",
    "import matplotlib.pyplot as plt\n",
    "import sys\n",
    "import os\n",
    "import cv2\n",
    "sys.path.append(os.path.abspath(os.path.join(os.getcwd(), '..')))\n",
    "\n",
    "from mask_generator.utils import DatasetLoaderFactory\n",
    "from mask_generator.transforms import AlbumentationsTrainTransform"
   ]
  },
  {
   "cell_type": "code",
   "execution_count": null,
   "id": "4b4fc5d3",
   "metadata": {},
   "outputs": [],
   "source": [
    "TRAIN_DATASET_PATH = '/root/MaskGenerator/Datasets/train/simu_v0'\n",
    "\n",
    "pairs = DatasetLoaderFactory.get_loader(TRAIN_DATASET_PATH).get_pairs()\n",
    "print(f\"Number of pairs: {len(pairs)}\")"
   ]
  },
  {
   "cell_type": "code",
   "execution_count": null,
   "id": "930df05c",
   "metadata": {},
   "outputs": [],
   "source": [
    "pair = random.choice(pairs)\n",
    "print(f\"Selected pair: {pair}\")\n",
    "\n",
    "original_image = cv2.imread(pair[0])\n",
    "original_image = cv2.cvtColor(original_image, cv2.COLOR_BGR2RGB)\n",
    "\n",
    "fig = plt.figure(figsize=(10, 10))\n",
    "plt.imshow(original_image)\n",
    "plt.axis('off')\n",
    "plt.show()"
   ]
  },
  {
   "cell_type": "code",
   "execution_count": null,
   "id": "1379823f",
   "metadata": {},
   "outputs": [],
   "source": [
    "PAD_DIVISOR = 32\n",
    "AUGMENTATION_NAMES = [\"blur\", \"noise\", \"dropout\", \"geometry\", \"color_invariance\", \"color_variation\", \"weather\"]\n",
    "\n",
    "transform = AlbumentationsTrainTransform()"
   ]
  },
  {
   "cell_type": "code",
   "execution_count": null,
   "id": "7046c7c8",
   "metadata": {},
   "outputs": [],
   "source": [
    "image = transform(image=original_image)\n",
    "\n",
    "denormalized_image = transform.denormalize(image)"
   ]
  },
  {
   "cell_type": "code",
   "execution_count": null,
   "id": "dd3a4580",
   "metadata": {},
   "outputs": [],
   "source": [
    "fig = plt.figure(figsize=(10, 10))\n",
    "plt.imshow(denormalized_image)\n",
    "plt.axis('off')\n",
    "plt.show()"
   ]
  }
 ],
 "metadata": {
  "language_info": {
   "name": "python"
  }
 },
 "nbformat": 4,
 "nbformat_minor": 5
}
