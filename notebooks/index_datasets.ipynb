{
 "cells": [
  {
   "cell_type": "code",
   "execution_count": 32,
   "id": "7b439a64",
   "metadata": {},
   "outputs": [],
   "source": [
    "import os, glob\n",
    "import pandas as pd"
   ]
  },
  {
   "cell_type": "code",
   "execution_count": 33,
   "id": "0d7fb782",
   "metadata": {},
   "outputs": [
    {
     "name": "stdout",
     "output_type": "stream",
     "text": [
      "Repo root found at: /root/MaskGenerator\n"
     ]
    }
   ],
   "source": [
    "def find_repo_root(current_path=None, marker_dir=\"Datasets\"):\n",
    "    if current_path is None:\n",
    "        current_path = os.getcwd()\n",
    "    while True:\n",
    "        if marker_dir in os.listdir(current_path):\n",
    "            return current_path\n",
    "        parent = os.path.dirname(current_path)\n",
    "        if parent == current_path:\n",
    "            raise FileNotFoundError(f\"Could not find repo root containing '{marker_dir}'\")\n",
    "        current_path = parent\n",
    "\n",
    "REPO_ROOT = find_repo_root()\n",
    "print(\"Repo root found at:\", REPO_ROOT)"
   ]
  },
  {
   "cell_type": "code",
   "execution_count": 34,
   "id": "a1101630",
   "metadata": {},
   "outputs": [],
   "source": [
    "def get_common_pairs(image_map, mask_map):\n",
    "    image_ids = set(image_map.keys())\n",
    "    mask_ids = set(mask_map.keys())\n",
    "\n",
    "    missing_in_masks = image_ids - mask_ids\n",
    "    missing_in_images = mask_ids - image_ids\n",
    "\n",
    "    if missing_in_masks:\n",
    "        print(f\"Warning: {len(missing_in_masks)} images do not have corresponding masks.\")\n",
    "    if missing_in_images:\n",
    "        print(f\"Warning: {len(missing_in_images)} masks do not have corresponding images.\")\n",
    "\n",
    "    common_ids = sorted(image_ids & mask_ids)\n",
    "    pairs = [(to_repo_relative(image_map[id_]), to_repo_relative(mask_map[id_])) for id_ in common_ids]\n",
    "\n",
    "    if not pairs:\n",
    "        raise ValueError(\"No common image-mask pairs found.\")\n",
    "    return pairs\n",
    "\n",
    "def save_pairs_csv(pairs, output_file):\n",
    "    if not pairs:\n",
    "        raise ValueError(\"No valid image-mask pairs found.\")\n",
    "    pairs_df = pd.DataFrame(pairs, columns=[\"image_path\", \"mask_path\"])\n",
    "    pairs_df.to_csv(output_file, index=False)\n",
    "    print(f\"Saved {len(pairs)} pairs to {output_file}\")\n",
    "\n",
    "def to_repo_relative(path, repo_root=REPO_ROOT):\n",
    "    abs_path = os.path.abspath(path)\n",
    "    rel_path = os.path.relpath(abs_path, repo_root)\n",
    "    return rel_path.replace(\"\\\\\", \"/\")"
   ]
  },
  {
   "cell_type": "markdown",
   "id": "6f1505b4",
   "metadata": {},
   "source": [
    "## Index Simu"
   ]
  },
  {
   "cell_type": "code",
   "execution_count": 35,
   "id": "e2d47387",
   "metadata": {},
   "outputs": [],
   "source": [
    "def index_simu(simu_dir, output_file):\n",
    "    image_files = glob.glob(os.path.join(simu_dir, \"Images\", \"*.png\"))\n",
    "    mask_files = glob.glob(os.path.join(simu_dir, \"Masks\", \"*.png\"))\n",
    "\n",
    "    image_map = {os.path.splitext(os.path.basename(p))[0].split('_')[-1]: p for p in image_files}\n",
    "    mask_map  = {os.path.splitext(os.path.basename(p))[0].split('_')[-1]: p for p in mask_files}\n",
    "\n",
    "    pairs = get_common_pairs(image_map, mask_map)\n",
    "\n",
    "    save_pairs_csv(pairs, output_file)"
   ]
  },
  {
   "cell_type": "markdown",
   "id": "243de4d6",
   "metadata": {},
   "source": [
    "## Index CARLANE"
   ]
  },
  {
   "cell_type": "code",
   "execution_count": 36,
   "id": "a3c02932",
   "metadata": {},
   "outputs": [],
   "source": [
    "def get_key_from_path(p, dataset_root):\n",
    "    rel_path = os.path.relpath(p, dataset_root)  # ex : \"val/source/123_image.jpg\"\n",
    "    dirname = os.path.dirname(rel_path)          # ex : \"val/source\"\n",
    "    filename = os.path.basename(rel_path)        # ex : \"123_image.jpg\"\n",
    "    file_id = filename.split('_')[0]              # ex : \"123\"\n",
    "    key = os.path.join(dirname, file_id)          # ex : \"val/source/123\"\n",
    "    return key\n",
    "\n",
    "def index_carlane(carlane_dir, output_file):\n",
    "    image_files = glob.glob(os.path.join(carlane_dir, \"**\", \"*_image.jpg\"), recursive=True)\n",
    "    mask_files = glob.glob(os.path.join(carlane_dir, \"**\", \"*_label.png\"), recursive=True)\n",
    "\n",
    "    print(f\"Found {len(image_files)} images and {len(mask_files)} masks in {carlane_dir}\")\n",
    "\n",
    "    image_map = {get_key_from_path(p, carlane_dir): p for p in image_files}\n",
    "    mask_map = {get_key_from_path(p, carlane_dir): p for p in mask_files}\n",
    "\n",
    "    print(f\"Image map size: {len(image_map)}\")\n",
    "    print(f\"Mask map size: {len(mask_map)}\")\n",
    "\n",
    "    pairs = get_common_pairs(image_map, mask_map)\n",
    "\n",
    "    save_pairs_csv(pairs, output_file)"
   ]
  },
  {
   "cell_type": "code",
   "execution_count": 37,
   "id": "b09a301a",
   "metadata": {},
   "outputs": [
    {
     "name": "stdout",
     "output_type": "stream",
     "text": [
      "Indexing Simu dataset...\n",
      "Saved 4817 pairs to ../Datasets/simu_v0/simu.csv\n",
      "Indexing CARLANE dataset...\n",
      "Found 228987 images and 175340 masks in ../Datasets/CARLANE\n",
      "Image map size: 225027\n",
      "Mask map size: 171380\n",
      "Warning: 53647 images do not have corresponding masks.\n",
      "Saved 171380 pairs to ../Datasets/CARLANE/carlane.csv\n"
     ]
    }
   ],
   "source": [
    "DATASETS_DIR = \"../Datasets/\"\n",
    "\n",
    "SIMU_DIR = os.path.join(DATASETS_DIR, \"simu_v0\")\n",
    "CARLANE_DIR = os.path.join(DATASETS_DIR, \"CARLANE\")\n",
    "\n",
    "SIMU_CSV = os.path.join(SIMU_DIR, \"simu.csv\")\n",
    "CARLANE_CSV = os.path.join(CARLANE_DIR, \"carlane.csv\")\n",
    "\n",
    "print(\"Indexing Simu dataset...\")\n",
    "index_simu(SIMU_DIR, SIMU_CSV)\n",
    "\n",
    "print(\"Indexing CARLANE dataset...\")\n",
    "index_carlane(CARLANE_DIR, CARLANE_CSV)"
   ]
  },
  {
   "cell_type": "markdown",
   "id": "be60aef1",
   "metadata": {},
   "source": [
    "## Global CSV"
   ]
  },
  {
   "cell_type": "code",
   "execution_count": 38,
   "id": "d5b7bb0a",
   "metadata": {},
   "outputs": [
    {
     "name": "stdout",
     "output_type": "stream",
     "text": [
      "Global dataset CSV saved to ../Datasets/all.csv, total pairs: 176197\n"
     ]
    }
   ],
   "source": [
    "GLOBAL_CSV = os.path.join(DATASETS_DIR, \"all.csv\")\n",
    "df_simu = pd.read_csv(SIMU_CSV)\n",
    "df_carlane = pd.read_csv(CARLANE_CSV)\n",
    "\n",
    "df_global = pd.concat([df_simu, df_carlane], ignore_index=True)\n",
    "\n",
    "df_global.to_csv(GLOBAL_CSV, index=False)\n",
    "\n",
    "print(f\"Global dataset CSV saved to {GLOBAL_CSV}, total pairs: {len(df_global)}\")"
   ]
  },
  {
   "cell_type": "markdown",
   "id": "c002437d",
   "metadata": {},
   "source": [
    "## Sub Datasets"
   ]
  },
  {
   "cell_type": "code",
   "execution_count": 40,
   "id": "574c87ed",
   "metadata": {},
   "outputs": [
    {
     "name": "stdout",
     "output_type": "stream",
     "text": [
      "MoLane dataset CSV saved to ../Datasets/CARLANE/MoLane/molane.csv, total pairs: 87000\n",
      "MoLane validation source CSV saved to ../Datasets/CARLANE/MoLane/molane_val_source.csv, total pairs: 4000\n",
      "MoLane validation target CSV saved to ../Datasets/CARLANE/MoLane/molane_val_target.csv, total pairs: 2000\n",
      "MoLane test CSV saved to ../Datasets/CARLANE/MoLane/molane_test.csv, total pairs: 1000\n"
     ]
    }
   ],
   "source": [
    "MOLANE_DIR = os.path.join(CARLANE_DIR, \"MoLane\")\n",
    "MOLANE_CSV = os.path.join(MOLANE_DIR, \"molane.csv\")\n",
    "\n",
    "df_molane = df_carlane[df_carlane['image_path'].str.contains(\"MoLane\")]\n",
    "df_molane.to_csv(MOLANE_CSV, index=False)\n",
    "print(f\"MoLane dataset CSV saved to {MOLANE_CSV}, total pairs: {len(df_molane)}\")\n",
    "\n",
    "MOLANE_VAL_SOURCE_CSV = os.path.join(MOLANE_DIR, \"molane_val_source.csv\")\n",
    "df_molane_val_source = df_molane[df_molane['image_path'].str.contains(\"val/source\")]\n",
    "df_molane_val_source.to_csv(MOLANE_VAL_SOURCE_CSV, index=False)\n",
    "print(f\"MoLane validation source CSV saved to {MOLANE_VAL_SOURCE_CSV}, total pairs: {len(df_molane_val_source)}\")\n",
    "\n",
    "MOLANE_VAL_TARGET_CSV = os.path.join(MOLANE_DIR, \"molane_val_target.csv\")\n",
    "df_molane_val_target = df_molane[df_molane['image_path'].str.contains(\"val/target\")]\n",
    "df_molane_val_target.to_csv(MOLANE_VAL_TARGET_CSV, index=False)\n",
    "print(f\"MoLane validation target CSV saved to {MOLANE_VAL_TARGET_CSV}, total pairs: {len(df_molane_val_target)}\")\n",
    "\n",
    "MOLANE_TEST_CSV = os.path.join(MOLANE_DIR, \"molane_test.csv\")\n",
    "df_molane_test = df_molane[df_molane['image_path'].str.contains(\"test\")]\n",
    "df_molane_test.to_csv(MOLANE_TEST_CSV, index=False)\n",
    "print(f\"MoLane test CSV saved to {MOLANE_TEST_CSV}, total pairs: {len(df_molane_test)}\")"
   ]
  }
 ],
 "metadata": {
  "kernelspec": {
   "display_name": "Robocar",
   "language": "python",
   "name": "python3"
  },
  "language_info": {
   "codemirror_mode": {
    "name": "ipython",
    "version": 3
   },
   "file_extension": ".py",
   "mimetype": "text/x-python",
   "name": "python",
   "nbconvert_exporter": "python",
   "pygments_lexer": "ipython3",
   "version": "3.10.17"
  }
 },
 "nbformat": 4,
 "nbformat_minor": 5
}
