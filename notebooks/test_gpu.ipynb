{
 "cells": [
  {
   "cell_type": "code",
   "execution_count": 6,
   "id": "2ab19e72",
   "metadata": {},
   "outputs": [],
   "source": [
    "import time\n",
    "from torch.utils.data import DataLoader\n",
    "import torch\n",
    "import sys\n",
    "import os\n",
    "\n",
    "sys.path.append(os.path.abspath(os.path.join(os.getcwd(), '..')))\n",
    "\n",
    "from mask_generator.dataset import ImageMaskDataset\n",
    "from mask_generator.transform_manager import TransformManager\n",
    "from mask_generator.utils.dataset_utils import DatasetLoaderFactory"
   ]
  },
  {
   "cell_type": "code",
   "execution_count": 7,
   "id": "b68087b8",
   "metadata": {},
   "outputs": [
    {
     "name": "stdout",
     "output_type": "stream",
     "text": [
      "Successfully loaded 4817 pairs of images and masks.\n"
     ]
    }
   ],
   "source": [
    "DATASET_DIR = \"../Datasets/train/simu_v0\"\n",
    "\n",
    "pairs_path = DatasetLoaderFactory.get_loader(\n",
    "        DATASET_DIR,\n",
    "    ).get_pairs()\n",
    "\n",
    "print(f\"Successfully loaded {len(pairs_path)} pairs of images and masks.\")"
   ]
  },
  {
   "cell_type": "code",
   "execution_count": 10,
   "id": "0b25e0d9",
   "metadata": {},
   "outputs": [
    {
     "name": "stdout",
     "output_type": "stream",
     "text": [
      "num_workers=4 | avg batch load time: 0.0458 s\n",
      "num_workers=8 | avg batch load time: 0.0424 s\n",
      "num_workers=16 | avg batch load time: 0.0652 s\n",
      "num_workers=24 | avg batch load time: 0.0889 s\n",
      "\n",
      "Résultats complets :\n",
      "4 workers -> 0.0458 s/batch\n",
      "8 workers -> 0.0424 s/batch\n",
      "16 workers -> 0.0652 s/batch\n",
      "24 workers -> 0.0889 s/batch\n"
     ]
    }
   ],
   "source": [
    "augmentations_list = [\"geometry\", \"dropout\", \"color_invariance\", \"color_variation\", \"blur\", \"noise\", \"weather\"]\n",
    "\n",
    "filters = [32, 64, 128, 256]\n",
    "\n",
    "transform_manager = TransformManager(seed=42, num_encoders=len(filters))\n",
    "train_ds = ImageMaskDataset(\n",
    "\n",
    "    pairs_path=pairs_path,\n",
    "    transform=transform_manager.get_eval_transform(),\n",
    ")\n",
    "\n",
    "batch_size = 16\n",
    "\n",
    "workers_to_test = [4, 8, 16, 24]\n",
    "\n",
    "results = []\n",
    "\n",
    "for num_workers in workers_to_test:\n",
    "    loader = DataLoader(\n",
    "        train_ds,\n",
    "        batch_size=batch_size,\n",
    "        num_workers=num_workers,\n",
    "        pin_memory=True,\n",
    "        persistent_workers=True,\n",
    "        prefetch_factor=4,\n",
    "        shuffle=True,\n",
    "    )\n",
    "\n",
    "    # Warm-up (pour initialiser workers, éviter le biais temps 1er batch)\n",
    "    for _ in loader:\n",
    "        break\n",
    "\n",
    "    start_time = time.time()\n",
    "    for i, (x, y, _, _) in enumerate(loader):\n",
    "        if i == 50:  # 50 batches testés, tu peux changer\n",
    "            break\n",
    "    elapsed = time.time() - start_time\n",
    "\n",
    "    avg_batch_time = elapsed / 50\n",
    "    print(f\"num_workers={num_workers} | avg batch load time: {avg_batch_time:.4f} s\")\n",
    "    results.append((num_workers, avg_batch_time))\n",
    "\n",
    "# Affiche résumé\n",
    "print(\"\\nRésultats complets :\")\n",
    "for w, t in results:\n",
    "    print(f\"{w} workers -> {t:.4f} s/batch\")"
   ]
  },
  {
   "cell_type": "code",
   "execution_count": null,
   "id": "10f6d230",
   "metadata": {},
   "outputs": [],
   "source": [
    "# Without Transforms\n",
    "# num_workers=4 | avg batch load time: 0.0343 s\n",
    "# num_workers=8 | avg batch load time: 0.0455 s\n",
    "# num_workers=16 | avg batch load time: 0.0680 s\n",
    "# num_workers=24 | avg batch load time: 0.0806 s\n",
    "\n",
    "# Résultats complets :\n",
    "# 4 workers -> 0.0343 s/batch\n",
    "# 8 workers -> 0.0455 s/batch\n",
    "# 16 workers -> 0.0680 s/batch\n",
    "# 24 workers -> 0.0806 s/batch\n",
    "\n",
    "# With Eval Transforms\n",
    "# num_workers=4 | avg batch load time: 0.0458 s\n",
    "# num_workers=8 | avg batch load time: 0.0424 s\n",
    "# num_workers=16 | avg batch load time: 0.0652 s\n",
    "# num_workers=24 | avg batch load time: 0.0889 s\n",
    "\n",
    "# Résultats complets :\n",
    "# 4 workers -> 0.0458 s/batch\n",
    "# 8 workers -> 0.0424 s/batch\n",
    "# 16 workers -> 0.0652 s/batch\n",
    "# 24 workers -> 0.0889 s/batch\n",
    "\n",
    "# With train transform\n",
    "# num_workers=4 | avg batch load time: 0.2736 s\n",
    "# num_workers=8 | avg batch load time: 0.1826 s\n",
    "# num_workers=16 | avg batch load time: 0.3284 s\n",
    "# num_workers=24 | avg batch load time: 0.4190 s\n",
    "\n",
    "# Résultats complets :\n",
    "# 4 workers -> 0.2736 s/batch\n",
    "# 8 workers -> 0.1826 s/batch\n",
    "# 16 workers -> 0.3284 s/batch\n",
    "# 24 workers -> 0.4190 s/batch"
   ]
  },
  {
   "cell_type": "code",
   "execution_count": 28,
   "id": "c5bbc5f3",
   "metadata": {},
   "outputs": [
    {
     "name": "stdout",
     "output_type": "stream",
     "text": [
      "Transform blur: avg time per call 0.0001s\n",
      "Transform noise: avg time per call 0.0005s\n",
      "Transform dropout: avg time per call 0.0001s\n",
      "Transform geometry: avg time per call 0.0002s\n",
      "Transform color_invariance: avg time per call 0.0000s\n",
      "Transform color_variation: avg time per call 0.0001s\n",
      "Transform weather: avg time per call 0.0011s\n"
     ]
    }
   ],
   "source": [
    "from mask_generator.augmentation_factory import AugmentationFactory\n",
    "import numpy as np\n",
    "\n",
    "factory = AugmentationFactory(seed=42)\n",
    "for name, transform_obj in factory.transformations.items():\n",
    "    start = time.time()\n",
    "    # Crée un transform unique\n",
    "    transform = transform_obj()\n",
    "    # Simule une application sur une image factice\n",
    "    dummy = {\"image\": np.random.randint(0, 256, (256, 256, 3), dtype=np.uint8)}\n",
    "    for _ in range(100):\n",
    "        _ = transform(**dummy)\n",
    "    elapsed = time.time() - start\n",
    "    print(f\"Transform {name}: avg time per call {(elapsed/100):.4f}s\")"
   ]
  },
  {
   "cell_type": "code",
   "execution_count": null,
   "id": "ca9d1cc9",
   "metadata": {},
   "outputs": [
    {
     "name": "stdout",
     "output_type": "stream",
     "text": [
      "\n"
     ]
    }
   ],
   "source": [
    "import torch.profiler\n",
    "\n",
    "with torch.profiler.profile(\n",
    "    activities=[torch.profiler.ProfilerActivity.CPU, torch.profiler.ProfilerActivity.CUDA],\n",
    "    record_shapes=True,\n",
    "    profile_memory=True,\n",
    "    with_stack=True\n",
    ") as prof:\n",
    "    print(prof.key_averages().table(sort_by=\"cuda_time_total\"))"
   ]
  }
 ],
 "metadata": {
  "kernelspec": {
   "display_name": "Robocar",
   "language": "python",
   "name": "python3"
  },
  "language_info": {
   "codemirror_mode": {
    "name": "ipython",
    "version": 3
   },
   "file_extension": ".py",
   "mimetype": "text/x-python",
   "name": "python",
   "nbconvert_exporter": "python",
   "pygments_lexer": "ipython3",
   "version": "3.10.17"
  }
 },
 "nbformat": 4,
 "nbformat_minor": 5
}
