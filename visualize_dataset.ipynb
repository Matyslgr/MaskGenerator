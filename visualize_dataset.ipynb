{
 "cells": [
  {
   "cell_type": "code",
   "execution_count": 1,
   "id": "6700eec5",
   "metadata": {},
   "outputs": [],
   "source": [
    "import os\n",
    "from PIL import Image\n",
    "import matplotlib.pyplot as plt\n",
    "import ipywidgets as widgets\n",
    "from IPython.display import display"
   ]
  },
  {
   "cell_type": "code",
   "execution_count": 2,
   "id": "7dd0b370",
   "metadata": {},
   "outputs": [],
   "source": [
    "images_dir = \"Dataset/Images/Original\"\n",
    "masks_dir = \"Dataset/Masks\"\n",
    "\n",
    "image_filenames = sorted([f for f in os.listdir(images_dir) if f.endswith(\".png\")])\n",
    "mask_filenames = sorted([f for f in os.listdir(masks_dir) if f.endswith(\".png\")])\n",
    "\n",
    "# Vérification de cohérence\n",
    "assert len(image_filenames) == len(mask_filenames), \"Nombre différent d'images et de masques\"\n",
    "assert all(image_filenames[i].split('_')[-1] == mask_filenames[i].split('_')[-1] for i in range(len(image_filenames))), \"Mismatch entre images et masques\""
   ]
  },
  {
   "cell_type": "code",
   "execution_count": null,
   "id": "b12c6da2",
   "metadata": {},
   "outputs": [
    {
     "data": {
      "application/vnd.jupyter.widget-view+json": {
       "model_id": "f450ca6be55a43f68c60b6c59e4fbe39",
       "version_major": 2,
       "version_minor": 0
      },
      "text/plain": [
       "interactive(children=(IntSlider(value=0, description='Index:'), Output()), _dom_classes=('widget-interact',))"
      ]
     },
     "metadata": {},
     "output_type": "display_data"
    },
    {
     "data": {
      "text/plain": [
       "<function __main__.show_pair(index)>"
      ]
     },
     "execution_count": 3,
     "metadata": {},
     "output_type": "execute_result"
    }
   ],
   "source": [
    "# Slider (affiche maximum 100 images par défaut)\n",
    "slider = widgets.IntSlider(min=0, max=min(100, len(image_filenames)-1), step=1, description='Index:')\n",
    "\n",
    "def show_pair(index):\n",
    "    image_path = os.path.join(images_dir, image_filenames[index])\n",
    "    mask_path = os.path.join(masks_dir, mask_filenames[index])\n",
    "\n",
    "    image = Image.open(image_path)\n",
    "    mask = Image.open(mask_path)\n",
    "\n",
    "    plt.figure(figsize=(10, 4))\n",
    "    plt.suptitle(f\"Pair ID: {image_filenames[index].split('_')[-1].split('.')[0]}\", fontsize=14)\n",
    "\n",
    "    plt.subplot(1, 2, 1)\n",
    "    plt.imshow(image)\n",
    "    plt.title(\"Original Image\")\n",
    "    plt.axis(\"off\")\n",
    "\n",
    "    plt.subplot(1, 2, 2)\n",
    "    plt.imshow(mask, cmap=\"gray\")\n",
    "    plt.title(\"Mask\")\n",
    "    plt.axis(\"off\")\n",
    "\n",
    "    plt.show()\n",
    "\n",
    "# Affiche le widget interactif\n",
    "widgets.interact(show_pair, index=slider)"
   ]
  }
 ],
 "metadata": {
  "kernelspec": {
   "display_name": "Robocar",
   "language": "python",
   "name": "python3"
  },
  "language_info": {
   "codemirror_mode": {
    "name": "ipython",
    "version": 3
   },
   "file_extension": ".py",
   "mimetype": "text/x-python",
   "name": "python",
   "nbconvert_exporter": "python",
   "pygments_lexer": "ipython3",
   "version": "3.9.18"
  }
 },
 "nbformat": 4,
 "nbformat_minor": 5
}
